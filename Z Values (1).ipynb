{
 "cells": [
  {
   "cell_type": "markdown",
   "metadata": {},
   "source": [
    "# Z Values"
   ]
  },
  {
   "cell_type": "code",
   "execution_count": 51,
   "metadata": {},
   "outputs": [],
   "source": [
    "# I'm thinking about creating an index from the Z-Values for three measures: Transfer percent, no homeowner exemption percent\n",
    "# and 1975 base year percent."
   ]
  },
  {
   "cell_type": "code",
   "execution_count": 55,
   "metadata": {},
   "outputs": [],
   "source": [
    "hoods <- read.csv(\"C://Users//bposton//Desktop//prop_13_hoods.csv\")"
   ]
  },
  {
   "cell_type": "code",
   "execution_count": 56,
   "metadata": {},
   "outputs": [
    {
     "data": {
      "text/html": [
       "<table>\n",
       "<thead><tr><th scope=col>ShapeName</th><th scope=col>total_transfer</th><th scope=col>trans_prop_13</th><th scope=col>No_HOX</th><th scope=col>no_hox_pct</th><th scope=col>base_1975</th><th scope=col>pct_1975</th><th scope=col>all_tran_pct</th></tr></thead>\n",
       "<tbody>\n",
       "\t<tr><td>Rolling Hills   </td><td>  445           </td><td>  65            </td><td>  54            </td><td>0.83077         </td><td> 34             </td><td>0.5231          </td><td>0.14607         </td></tr>\n",
       "\t<tr><td>Avalon          </td><td>  836           </td><td> 118            </td><td> 112            </td><td>0.94915         </td><td> 38             </td><td>0.3220          </td><td>0.14115         </td></tr>\n",
       "\t<tr><td>Rosemead        </td><td> 5808           </td><td> 788            </td><td> 496            </td><td>0.62944         </td><td>233             </td><td>0.2957          </td><td>0.13567         </td></tr>\n",
       "\t<tr><td>Monterey Park   </td><td> 9533           </td><td>1186            </td><td> 753            </td><td>0.63491         </td><td>442             </td><td>0.3727          </td><td>0.12441         </td></tr>\n",
       "\t<tr><td>East Los Angeles</td><td>13776           </td><td>1694            </td><td>1243            </td><td>0.73377         </td><td>797             </td><td>0.4705          </td><td>0.12297         </td></tr>\n",
       "\t<tr><td>Elysian Valley  </td><td> 1183           </td><td> 142            </td><td>  90            </td><td>0.63380         </td><td> 62             </td><td>0.4366          </td><td>0.12003         </td></tr>\n",
       "</tbody>\n",
       "</table>\n"
      ],
      "text/latex": [
       "\\begin{tabular}{r|llllllll}\n",
       " ShapeName & total\\_transfer & trans\\_prop\\_13 & No\\_HOX & no\\_hox\\_pct & base\\_1975 & pct\\_1975 & all\\_tran\\_pct\\\\\n",
       "\\hline\n",
       "\t Rolling Hills    &   445            &   65             &   54             & 0.83077          &  34              & 0.5231           & 0.14607         \\\\\n",
       "\t Avalon           &   836            &  118             &  112             & 0.94915          &  38              & 0.3220           & 0.14115         \\\\\n",
       "\t Rosemead         &  5808            &  788             &  496             & 0.62944          & 233              & 0.2957           & 0.13567         \\\\\n",
       "\t Monterey Park    &  9533            & 1186             &  753             & 0.63491          & 442              & 0.3727           & 0.12441         \\\\\n",
       "\t East Los Angeles & 13776            & 1694             & 1243             & 0.73377          & 797              & 0.4705           & 0.12297         \\\\\n",
       "\t Elysian Valley   &  1183            &  142             &   90             & 0.63380          &  62              & 0.4366           & 0.12003         \\\\\n",
       "\\end{tabular}\n"
      ],
      "text/markdown": [
       "\n",
       "ShapeName | total_transfer | trans_prop_13 | No_HOX | no_hox_pct | base_1975 | pct_1975 | all_tran_pct | \n",
       "|---|---|---|---|---|---|\n",
       "| Rolling Hills    |   445            |   65             |   54             | 0.83077          |  34              | 0.5231           | 0.14607          | \n",
       "| Avalon           |   836            |  118             |  112             | 0.94915          |  38              | 0.3220           | 0.14115          | \n",
       "| Rosemead         |  5808            |  788             |  496             | 0.62944          | 233              | 0.2957           | 0.13567          | \n",
       "| Monterey Park    |  9533            | 1186             |  753             | 0.63491          | 442              | 0.3727           | 0.12441          | \n",
       "| East Los Angeles | 13776            | 1694             | 1243             | 0.73377          | 797              | 0.4705           | 0.12297          | \n",
       "| Elysian Valley   |  1183            |  142             |   90             | 0.63380          |  62              | 0.4366           | 0.12003          | \n",
       "\n",
       "\n"
      ],
      "text/plain": [
       "  ShapeName        total_transfer trans_prop_13 No_HOX no_hox_pct base_1975\n",
       "1 Rolling Hills      445            65            54   0.83077     34      \n",
       "2 Avalon             836           118           112   0.94915     38      \n",
       "3 Rosemead          5808           788           496   0.62944    233      \n",
       "4 Monterey Park     9533          1186           753   0.63491    442      \n",
       "5 East Los Angeles 13776          1694          1243   0.73377    797      \n",
       "6 Elysian Valley    1183           142            90   0.63380     62      \n",
       "  pct_1975 all_tran_pct\n",
       "1 0.5231   0.14607     \n",
       "2 0.3220   0.14115     \n",
       "3 0.2957   0.13567     \n",
       "4 0.3727   0.12441     \n",
       "5 0.4705   0.12297     \n",
       "6 0.4366   0.12003     "
      ]
     },
     "metadata": {},
     "output_type": "display_data"
    }
   ],
   "source": [
    "head(hoods)"
   ]
  },
  {
   "cell_type": "code",
   "execution_count": 57,
   "metadata": {},
   "outputs": [
    {
     "data": {
      "text/html": [
       "<table>\n",
       "<thead><tr><th scope=col>ShapeName</th><th scope=col>total_transfer</th><th scope=col>trans_prop_13</th><th scope=col>No_HOX</th><th scope=col>no_hox_pct</th><th scope=col>base_1975</th><th scope=col>pct_1975</th><th scope=col>all_tran_pct</th></tr></thead>\n",
       "<tbody>\n",
       "\t<tr><td>Rolling Hills   </td><td>  445           </td><td>  65            </td><td>  54            </td><td>0.83077         </td><td> 34             </td><td>0.5231          </td><td>0.14607         </td></tr>\n",
       "\t<tr><td>Avalon          </td><td>  836           </td><td> 118            </td><td> 112            </td><td>0.94915         </td><td> 38             </td><td>0.3220          </td><td>0.14115         </td></tr>\n",
       "\t<tr><td>Rosemead        </td><td> 5808           </td><td> 788            </td><td> 496            </td><td>0.62944         </td><td>233             </td><td>0.2957          </td><td>0.13567         </td></tr>\n",
       "\t<tr><td>Monterey Park   </td><td> 9533           </td><td>1186            </td><td> 753            </td><td>0.63491         </td><td>442             </td><td>0.3727          </td><td>0.12441         </td></tr>\n",
       "\t<tr><td>East Los Angeles</td><td>13776           </td><td>1694            </td><td>1243            </td><td>0.73377         </td><td>797             </td><td>0.4705          </td><td>0.12297         </td></tr>\n",
       "</tbody>\n",
       "</table>\n"
      ],
      "text/latex": [
       "\\begin{tabular}{r|llllllll}\n",
       " ShapeName & total\\_transfer & trans\\_prop\\_13 & No\\_HOX & no\\_hox\\_pct & base\\_1975 & pct\\_1975 & all\\_tran\\_pct\\\\\n",
       "\\hline\n",
       "\t Rolling Hills    &   445            &   65             &   54             & 0.83077          &  34              & 0.5231           & 0.14607         \\\\\n",
       "\t Avalon           &   836            &  118             &  112             & 0.94915          &  38              & 0.3220           & 0.14115         \\\\\n",
       "\t Rosemead         &  5808            &  788             &  496             & 0.62944          & 233              & 0.2957           & 0.13567         \\\\\n",
       "\t Monterey Park    &  9533            & 1186             &  753             & 0.63491          & 442              & 0.3727           & 0.12441         \\\\\n",
       "\t East Los Angeles & 13776            & 1694             & 1243             & 0.73377          & 797              & 0.4705           & 0.12297         \\\\\n",
       "\\end{tabular}\n"
      ],
      "text/markdown": [
       "\n",
       "ShapeName | total_transfer | trans_prop_13 | No_HOX | no_hox_pct | base_1975 | pct_1975 | all_tran_pct | \n",
       "|---|---|---|---|---|\n",
       "| Rolling Hills    |   445            |   65             |   54             | 0.83077          |  34              | 0.5231           | 0.14607          | \n",
       "| Avalon           |   836            |  118             |  112             | 0.94915          |  38              | 0.3220           | 0.14115          | \n",
       "| Rosemead         |  5808            |  788             |  496             | 0.62944          | 233              | 0.2957           | 0.13567          | \n",
       "| Monterey Park    |  9533            | 1186             |  753             | 0.63491          | 442              | 0.3727           | 0.12441          | \n",
       "| East Los Angeles | 13776            | 1694             | 1243             | 0.73377          | 797              | 0.4705           | 0.12297          | \n",
       "\n",
       "\n"
      ],
      "text/plain": [
       "  ShapeName        total_transfer trans_prop_13 No_HOX no_hox_pct base_1975\n",
       "1 Rolling Hills      445            65            54   0.83077     34      \n",
       "2 Avalon             836           118           112   0.94915     38      \n",
       "3 Rosemead          5808           788           496   0.62944    233      \n",
       "4 Monterey Park     9533          1186           753   0.63491    442      \n",
       "5 East Los Angeles 13776          1694          1243   0.73377    797      \n",
       "  pct_1975 all_tran_pct\n",
       "1 0.5231   0.14607     \n",
       "2 0.3220   0.14115     \n",
       "3 0.2957   0.13567     \n",
       "4 0.3727   0.12441     \n",
       "5 0.4705   0.12297     "
      ]
     },
     "metadata": {},
     "output_type": "display_data"
    }
   ],
   "source": [
    "head(hoods[order(hoods$all_tran_pct, decreasing = TRUE),], n = 5)"
   ]
  },
  {
   "cell_type": "markdown",
   "metadata": {},
   "source": [
    "# Average Transfer rate of county hoods is 5.9%"
   ]
  },
  {
   "cell_type": "code",
   "execution_count": 34,
   "metadata": {},
   "outputs": [
    {
     "data": {
      "text/html": [
       "0.059061605270345"
      ],
      "text/latex": [
       "0.059061605270345"
      ],
      "text/markdown": [
       "0.059061605270345"
      ],
      "text/plain": [
       "[1] 0.05906161"
      ]
     },
     "metadata": {},
     "output_type": "display_data"
    }
   ],
   "source": [
    "p_0 <- sum(hoods$trans_prop_13) / sum(hoods$total_transfer)\n",
    "p_0"
   ]
  },
  {
   "cell_type": "markdown",
   "metadata": {},
   "source": [
    "# Calculate Z-Value for Transfer Pct"
   ]
  },
  {
   "cell_type": "code",
   "execution_count": 59,
   "metadata": {},
   "outputs": [],
   "source": [
    "hoods$zval_trans <- (hoods$all_tran_pct - p_0) / sqrt(p_0 * (1 - p_0) / hoods$total_transfer)"
   ]
  },
  {
   "cell_type": "code",
   "execution_count": 60,
   "metadata": {},
   "outputs": [
    {
     "data": {
      "text/html": [
       "<table>\n",
       "<thead><tr><th></th><th scope=col>ShapeName</th><th scope=col>total_transfer</th><th scope=col>trans_prop_13</th><th scope=col>No_HOX</th><th scope=col>no_hox_pct</th><th scope=col>base_1975</th><th scope=col>pct_1975</th><th scope=col>all_tran_pct</th><th scope=col>zval_trans</th></tr></thead>\n",
       "<tbody>\n",
       "\t<tr><th scope=row>5</th><td>East Los Angeles</td><td>13776           </td><td>1694            </td><td>1243            </td><td>0.73377         </td><td>797             </td><td>0.4705          </td><td>0.12297         </td><td>31.81898        </td></tr>\n",
       "\t<tr><th scope=row>4</th><td>Monterey Park   </td><td> 9533           </td><td>1186            </td><td> 753            </td><td>0.63491         </td><td>442             </td><td>0.3727          </td><td>0.12441         </td><td>27.06553        </td></tr>\n",
       "\t<tr><th scope=row>3</th><td>Rosemead        </td><td> 5808           </td><td> 788            </td><td> 496            </td><td>0.62944         </td><td>233             </td><td>0.2957          </td><td>0.13567         </td><td>24.76603        </td></tr>\n",
       "\t<tr><th scope=row>8</th><td>Montebello      </td><td> 8070           </td><td> 966            </td><td> 648            </td><td>0.67081         </td><td>418             </td><td>0.4327          </td><td>0.11970         </td><td>23.10741        </td></tr>\n",
       "\t<tr><th scope=row>13</th><td>Alhambra        </td><td>11452           </td><td>1245            </td><td> 816            </td><td>0.65542         </td><td>395             </td><td>0.3173          </td><td>0.10871         </td><td>22.53786        </td></tr>\n",
       "</tbody>\n",
       "</table>\n"
      ],
      "text/latex": [
       "\\begin{tabular}{r|lllllllll}\n",
       "  & ShapeName & total\\_transfer & trans\\_prop\\_13 & No\\_HOX & no\\_hox\\_pct & base\\_1975 & pct\\_1975 & all\\_tran\\_pct & zval\\_trans\\\\\n",
       "\\hline\n",
       "\t5 & East Los Angeles & 13776            & 1694             & 1243             & 0.73377          & 797              & 0.4705           & 0.12297          & 31.81898        \\\\\n",
       "\t4 & Monterey Park    &  9533            & 1186             &  753             & 0.63491          & 442              & 0.3727           & 0.12441          & 27.06553        \\\\\n",
       "\t3 & Rosemead         &  5808            &  788             &  496             & 0.62944          & 233              & 0.2957           & 0.13567          & 24.76603        \\\\\n",
       "\t8 & Montebello       &  8070            &  966             &  648             & 0.67081          & 418              & 0.4327           & 0.11970          & 23.10741        \\\\\n",
       "\t13 & Alhambra         & 11452            & 1245             &  816             & 0.65542          & 395              & 0.3173           & 0.10871          & 22.53786        \\\\\n",
       "\\end{tabular}\n"
      ],
      "text/markdown": [
       "\n",
       "| <!--/--> | ShapeName | total_transfer | trans_prop_13 | No_HOX | no_hox_pct | base_1975 | pct_1975 | all_tran_pct | zval_trans | \n",
       "|---|---|---|---|---|\n",
       "| 5 | East Los Angeles | 13776            | 1694             | 1243             | 0.73377          | 797              | 0.4705           | 0.12297          | 31.81898         | \n",
       "| 4 | Monterey Park    |  9533            | 1186             |  753             | 0.63491          | 442              | 0.3727           | 0.12441          | 27.06553         | \n",
       "| 3 | Rosemead         |  5808            |  788             |  496             | 0.62944          | 233              | 0.2957           | 0.13567          | 24.76603         | \n",
       "| 8 | Montebello       |  8070            |  966             |  648             | 0.67081          | 418              | 0.4327           | 0.11970          | 23.10741         | \n",
       "| 13 | Alhambra         | 11452            | 1245             |  816             | 0.65542          | 395              | 0.3173           | 0.10871          | 22.53786         | \n",
       "\n",
       "\n"
      ],
      "text/plain": [
       "   ShapeName        total_transfer trans_prop_13 No_HOX no_hox_pct base_1975\n",
       "5  East Los Angeles 13776          1694          1243   0.73377    797      \n",
       "4  Monterey Park     9533          1186           753   0.63491    442      \n",
       "3  Rosemead          5808           788           496   0.62944    233      \n",
       "8  Montebello        8070           966           648   0.67081    418      \n",
       "13 Alhambra         11452          1245           816   0.65542    395      \n",
       "   pct_1975 all_tran_pct zval_trans\n",
       "5  0.4705   0.12297      31.81898  \n",
       "4  0.3727   0.12441      27.06553  \n",
       "3  0.2957   0.13567      24.76603  \n",
       "8  0.4327   0.11970      23.10741  \n",
       "13 0.3173   0.10871      22.53786  "
      ]
     },
     "metadata": {},
     "output_type": "display_data"
    }
   ],
   "source": [
    "hoods <- hoods[order(hoods$zval_trans, decreasing = TRUE),]\n",
    "head(hoods, n = 5)"
   ]
  },
  {
   "cell_type": "markdown",
   "metadata": {},
   "source": [
    "# Calculate Z-Value for No HOX Pct"
   ]
  },
  {
   "cell_type": "code",
   "execution_count": 61,
   "metadata": {},
   "outputs": [
    {
     "data": {
      "text/html": [
       "0.714751301083525"
      ],
      "text/latex": [
       "0.714751301083525"
      ],
      "text/markdown": [
       "0.714751301083525"
      ],
      "text/plain": [
       "[1] 0.7147513"
      ]
     },
     "metadata": {},
     "output_type": "display_data"
    }
   ],
   "source": [
    "p_1 <- sum(hoods$No_HOX) / sum(hoods$trans_prop_13)\n",
    "p_1"
   ]
  },
  {
   "cell_type": "code",
   "execution_count": 62,
   "metadata": {},
   "outputs": [],
   "source": [
    "#Countywide rate for No HOX is 71.5% "
   ]
  },
  {
   "cell_type": "code",
   "execution_count": 63,
   "metadata": {},
   "outputs": [],
   "source": [
    "hoods$zval_hox <- (hoods$no_hox_pct - p_1) / sqrt(p_0 * (1 - p_1) / hoods$No_HOX)"
   ]
  },
  {
   "cell_type": "code",
   "execution_count": 64,
   "metadata": {},
   "outputs": [
    {
     "data": {
      "text/html": [
       "<table>\n",
       "<thead><tr><th></th><th scope=col>ShapeName</th><th scope=col>total_transfer</th><th scope=col>trans_prop_13</th><th scope=col>No_HOX</th><th scope=col>no_hox_pct</th><th scope=col>base_1975</th><th scope=col>pct_1975</th><th scope=col>all_tran_pct</th><th scope=col>zval_trans</th><th scope=col>zval_hox</th></tr></thead>\n",
       "<tbody>\n",
       "\t<tr><th scope=row>168</th><td>Northeast Antelope Valley            </td><td>21768                                </td><td>1302                                 </td><td>1285                                 </td><td>0.98694                              </td><td>584                                  </td><td>0.4485                               </td><td>0.05981                              </td><td>  0.4683891                          </td><td>75.17219                             </td></tr>\n",
       "\t<tr><th scope=row>200</th><td>Northwest Antelope Valley            </td><td>12249                                </td><td> 653                                 </td><td> 633                                 </td><td>0.96937                              </td><td>253                                  </td><td>0.3874                               </td><td>0.05331                              </td><td> -2.7002637                          </td><td>49.35461                             </td></tr>\n",
       "\t<tr><th scope=row>142</th><td>Southeast Antelope Valley            </td><td> 8034                                </td><td> 520                                 </td><td> 504                                 </td><td>0.96923                              </td><td>185                                  </td><td>0.3558                               </td><td>0.06472                              </td><td>  2.1514236                          </td><td>44.01516                             </td></tr>\n",
       "\t<tr><th scope=row>219</th><td>Unincorporated Santa Susana Mountains</td><td> 2256                                </td><td> 108                                 </td><td> 107                                 </td><td>0.99074                              </td><td> 39                                  </td><td>0.3611                               </td><td>0.04787                              </td><td> -2.2549074                          </td><td>21.99473                             </td></tr>\n",
       "\t<tr><th scope=row>280</th><td>Downtown                             </td><td>17690                                </td><td> 319                                 </td><td> 282                                 </td><td>0.88401                              </td><td> 55                                  </td><td>0.1724                               </td><td>0.01803                              </td><td>-23.1499046                          </td><td>21.89833                             </td></tr>\n",
       "</tbody>\n",
       "</table>\n"
      ],
      "text/latex": [
       "\\begin{tabular}{r|llllllllll}\n",
       "  & ShapeName & total\\_transfer & trans\\_prop\\_13 & No\\_HOX & no\\_hox\\_pct & base\\_1975 & pct\\_1975 & all\\_tran\\_pct & zval\\_trans & zval\\_hox\\\\\n",
       "\\hline\n",
       "\t168 & Northeast Antelope Valley             & 21768                                 & 1302                                  & 1285                                  & 0.98694                               & 584                                   & 0.4485                                & 0.05981                               &   0.4683891                           & 75.17219                             \\\\\n",
       "\t200 & Northwest Antelope Valley             & 12249                                 &  653                                  &  633                                  & 0.96937                               & 253                                   & 0.3874                                & 0.05331                               &  -2.7002637                           & 49.35461                             \\\\\n",
       "\t142 & Southeast Antelope Valley             &  8034                                 &  520                                  &  504                                  & 0.96923                               & 185                                   & 0.3558                                & 0.06472                               &   2.1514236                           & 44.01516                             \\\\\n",
       "\t219 & Unincorporated Santa Susana Mountains &  2256                                 &  108                                  &  107                                  & 0.99074                               &  39                                   & 0.3611                                & 0.04787                               &  -2.2549074                           & 21.99473                             \\\\\n",
       "\t280 & Downtown                              & 17690                                 &  319                                  &  282                                  & 0.88401                               &  55                                   & 0.1724                                & 0.01803                               & -23.1499046                           & 21.89833                             \\\\\n",
       "\\end{tabular}\n"
      ],
      "text/markdown": [
       "\n",
       "| <!--/--> | ShapeName | total_transfer | trans_prop_13 | No_HOX | no_hox_pct | base_1975 | pct_1975 | all_tran_pct | zval_trans | zval_hox | \n",
       "|---|---|---|---|---|\n",
       "| 168 | Northeast Antelope Valley             | 21768                                 | 1302                                  | 1285                                  | 0.98694                               | 584                                   | 0.4485                                | 0.05981                               |   0.4683891                           | 75.17219                              | \n",
       "| 200 | Northwest Antelope Valley             | 12249                                 |  653                                  |  633                                  | 0.96937                               | 253                                   | 0.3874                                | 0.05331                               |  -2.7002637                           | 49.35461                              | \n",
       "| 142 | Southeast Antelope Valley             |  8034                                 |  520                                  |  504                                  | 0.96923                               | 185                                   | 0.3558                                | 0.06472                               |   2.1514236                           | 44.01516                              | \n",
       "| 219 | Unincorporated Santa Susana Mountains |  2256                                 |  108                                  |  107                                  | 0.99074                               |  39                                   | 0.3611                                | 0.04787                               |  -2.2549074                           | 21.99473                              | \n",
       "| 280 | Downtown                              | 17690                                 |  319                                  |  282                                  | 0.88401                               |  55                                   | 0.1724                                | 0.01803                               | -23.1499046                           | 21.89833                              | \n",
       "\n",
       "\n"
      ],
      "text/plain": [
       "    ShapeName                             total_transfer trans_prop_13 No_HOX\n",
       "168 Northeast Antelope Valley             21768          1302          1285  \n",
       "200 Northwest Antelope Valley             12249           653           633  \n",
       "142 Southeast Antelope Valley              8034           520           504  \n",
       "219 Unincorporated Santa Susana Mountains  2256           108           107  \n",
       "280 Downtown                              17690           319           282  \n",
       "    no_hox_pct base_1975 pct_1975 all_tran_pct zval_trans  zval_hox\n",
       "168 0.98694    584       0.4485   0.05981        0.4683891 75.17219\n",
       "200 0.96937    253       0.3874   0.05331       -2.7002637 49.35461\n",
       "142 0.96923    185       0.3558   0.06472        2.1514236 44.01516\n",
       "219 0.99074     39       0.3611   0.04787       -2.2549074 21.99473\n",
       "280 0.88401     55       0.1724   0.01803      -23.1499046 21.89833"
      ]
     },
     "metadata": {},
     "output_type": "display_data"
    }
   ],
   "source": [
    "hoods <- hoods[order(hoods$zval_hox, decreasing = TRUE),]\n",
    "head(hoods, n = 5)"
   ]
  },
  {
   "cell_type": "markdown",
   "metadata": {},
   "source": [
    "# Calculate Z-Value for 1975 Base Year Pct"
   ]
  },
  {
   "cell_type": "code",
   "execution_count": 65,
   "metadata": {},
   "outputs": [
    {
     "data": {
      "text/html": [
       "0.368227966897022"
      ],
      "text/latex": [
       "0.368227966897022"
      ],
      "text/markdown": [
       "0.368227966897022"
      ],
      "text/plain": [
       "[1] 0.368228"
      ]
     },
     "metadata": {},
     "output_type": "display_data"
    }
   ],
   "source": [
    "p_2 <- sum(hoods$base_1975) / sum(hoods$trans_prop_13)\n",
    "p_2"
   ]
  },
  {
   "cell_type": "code",
   "execution_count": null,
   "metadata": {},
   "outputs": [],
   "source": [
    "#Nearly 37% of Prop 58/193 transfers had a 1975 base year"
   ]
  },
  {
   "cell_type": "code",
   "execution_count": 68,
   "metadata": {},
   "outputs": [],
   "source": [
    "hoods$zval_1975 <- (hoods$pct_1975 - p_0) / sqrt(p_2 * (1 - p_2) / hoods$base_1975)"
   ]
  },
  {
   "cell_type": "code",
   "execution_count": 69,
   "metadata": {},
   "outputs": [
    {
     "data": {
      "text/html": [
       "<table>\n",
       "<thead><tr><th></th><th scope=col>ShapeName</th><th scope=col>total_transfer</th><th scope=col>trans_prop_13</th><th scope=col>No_HOX</th><th scope=col>no_hox_pct</th><th scope=col>base_1975</th><th scope=col>pct_1975</th><th scope=col>all_tran_pct</th><th scope=col>zval_trans</th><th scope=col>zval_hox</th><th scope=col>zval_1975</th></tr></thead>\n",
       "<tbody>\n",
       "\t<tr><th scope=row>5</th><td>East Los Angeles</td><td>13776           </td><td>1694            </td><td>1243            </td><td>0.73377         </td><td> 797            </td><td>0.4705          </td><td>0.12297         </td><td>31.81898        </td><td>  5.1659703     </td><td>24.082158       </td></tr>\n",
       "\t<tr><th scope=row>4</th><td>Monterey Park   </td><td> 9533           </td><td>1186            </td><td> 753            </td><td>0.63491         </td><td> 442            </td><td>0.3727          </td><td>0.12441         </td><td>27.06553        </td><td>-16.8795411     </td><td>13.671047       </td></tr>\n",
       "\t<tr><th scope=row>3</th><td>Rosemead        </td><td> 5808           </td><td> 788            </td><td> 496            </td><td>0.62944         </td><td> 233            </td><td>0.2957          </td><td>0.13567         </td><td>24.76603        </td><td>-14.6380405     </td><td> 7.489013       </td></tr>\n",
       "\t<tr><th scope=row>8</th><td>Montebello      </td><td> 8070           </td><td> 966            </td><td> 648            </td><td>0.67081         </td><td> 418            </td><td>0.4327          </td><td>0.11970         </td><td>23.10741        </td><td> -8.6177910     </td><td>15.838026       </td></tr>\n",
       "\t<tr><th scope=row>13</th><td>Alhambra        </td><td>11452           </td><td>1245            </td><td> 816            </td><td>0.65542         </td><td> 395            </td><td>0.3173          </td><td>0.10871         </td><td>22.53786        </td><td>-13.0576340     </td><td>10.640959       </td></tr>\n",
       "\t<tr><th scope=row>30</th><td>Torrance        </td><td>23339           </td><td>2182            </td><td>1527            </td><td>0.69982         </td><td>1014            </td><td>0.4647          </td><td>0.09349         </td><td>22.31129        </td><td> -4.4952382     </td><td>26.780547       </td></tr>\n",
       "\t<tr><th scope=row>15</th><td>Pico Rivera     </td><td> 9842           </td><td>1048            </td><td> 685            </td><td>0.65363         </td><td> 511            </td><td>0.4876          </td><td>0.10648         </td><td>19.95516        </td><td>-12.3246166     </td><td>20.084527       </td></tr>\n",
       "\t<tr><th scope=row>16</th><td>Boyle Heights   </td><td> 8625           </td><td> 900            </td><td> 665            </td><td>0.73889         </td><td> 388            </td><td>0.4311          </td><td>0.10435         </td><td>17.84158        </td><td>  4.7957907     </td><td>15.193752       </td></tr>\n",
       "\t<tr><th scope=row>51</th><td>Santa Monica    </td><td>16328           </td><td>1416            </td><td>1115            </td><td>0.78743         </td><td> 522            </td><td>0.3686          </td><td>0.08672         </td><td>14.99202        </td><td> 18.6973526     </td><td>14.662607       </td></tr>\n",
       "\t<tr><th scope=row>66</th><td>Burbank         </td><td>20237           </td><td>1661            </td><td>1242            </td><td>0.74774         </td><td> 770            </td><td>0.4636          </td><td>0.08208         </td><td>13.89040        </td><td>  8.9569784     </td><td>23.273759       </td></tr>\n",
       "\t<tr><th scope=row>27</th><td>Beverly Hills   </td><td> 7347           </td><td> 706            </td><td> 567            </td><td>0.80312         </td><td> 329            </td><td>0.4660          </td><td>0.09609         </td><td>13.46346        </td><td> 16.2115870     </td><td>15.303404       </td></tr>\n",
       "\t<tr><th scope=row>9</th><td>Fairfax         </td><td> 2325           </td><td> 277            </td><td> 215            </td><td>0.77617         </td><td> 152            </td><td>0.5487          </td><td>0.11914         </td><td>12.28844        </td><td>  6.9383369     </td><td>12.515802       </td></tr>\n",
       "\t<tr><th scope=row>61</th><td>El Monte        </td><td>12882           </td><td>1080            </td><td> 703            </td><td>0.65093         </td><td> 295            </td><td>0.2731          </td><td>0.08384         </td><td>11.92976        </td><td>-13.0370358     </td><td> 7.621915       </td></tr>\n",
       "\t<tr><th scope=row>91</th><td>Glendale        </td><td>32705           </td><td>2423            </td><td>1714            </td><td>0.70739         </td><td> 796            </td><td>0.3285          </td><td>0.07409         </td><td>11.52886        </td><td> -2.3479861     </td><td>15.760770       </td></tr>\n",
       "\t<tr><th scope=row>10</th><td>Commerce        </td><td> 2219           </td><td> 252            </td><td> 188            </td><td>0.74603         </td><td> 122            </td><td>0.4841          </td><td>0.11356         </td><td>10.89003        </td><td>  3.3041758     </td><td> 9.733510       </td></tr>\n",
       "\t<tr><th scope=row>53</th><td>Culver City     </td><td> 8705           </td><td> 748            </td><td> 533            </td><td>0.71257         </td><td> 299            </td><td>0.3997          </td><td>0.08593         </td><td>10.63391        </td><td> -0.3879848     </td><td>12.212107       </td></tr>\n",
       "\t<tr><th scope=row>18</th><td>East San Gabriel</td><td> 3324           </td><td> 339            </td><td> 219            </td><td>0.64602         </td><td> 105            </td><td>0.3097          </td><td>0.10199         </td><td>10.49886        </td><td> -7.8363200     </td><td> 5.324804       </td></tr>\n",
       "\t<tr><th scope=row>40</th><td>Wilmington      </td><td> 6766           </td><td> 603            </td><td> 472            </td><td>0.78275         </td><td> 240            </td><td>0.3980          </td><td>0.08912         </td><td>10.48814        </td><td> 11.3817002     </td><td>10.886488       </td></tr>\n",
       "\t<tr><th scope=row>14</th><td>Sierra Madre    </td><td> 2549           </td><td> 274            </td><td> 212            </td><td>0.77372         </td><td> 156            </td><td>0.5693          </td><td>0.10749         </td><td>10.37174        </td><td>  6.6149264     </td><td>13.212861       </td></tr>\n",
       "\t<tr><th scope=row>49</th><td>El Sereno       </td><td> 7606           </td><td> 662            </td><td> 489            </td><td>0.73867         </td><td> 289            </td><td>0.4366          </td><td>0.08704         </td><td>10.35065        </td><td>  4.0749991     </td><td>13.306734       </td></tr>\n",
       "</tbody>\n",
       "</table>\n"
      ],
      "text/latex": [
       "\\begin{tabular}{r|lllllllllll}\n",
       "  & ShapeName & total\\_transfer & trans\\_prop\\_13 & No\\_HOX & no\\_hox\\_pct & base\\_1975 & pct\\_1975 & all\\_tran\\_pct & zval\\_trans & zval\\_hox & zval\\_1975\\\\\n",
       "\\hline\n",
       "\t5 & East Los Angeles & 13776            & 1694             & 1243             & 0.73377          &  797             & 0.4705           & 0.12297          & 31.81898         &   5.1659703      & 24.082158       \\\\\n",
       "\t4 & Monterey Park    &  9533            & 1186             &  753             & 0.63491          &  442             & 0.3727           & 0.12441          & 27.06553         & -16.8795411      & 13.671047       \\\\\n",
       "\t3 & Rosemead         &  5808            &  788             &  496             & 0.62944          &  233             & 0.2957           & 0.13567          & 24.76603         & -14.6380405      &  7.489013       \\\\\n",
       "\t8 & Montebello       &  8070            &  966             &  648             & 0.67081          &  418             & 0.4327           & 0.11970          & 23.10741         &  -8.6177910      & 15.838026       \\\\\n",
       "\t13 & Alhambra         & 11452            & 1245             &  816             & 0.65542          &  395             & 0.3173           & 0.10871          & 22.53786         & -13.0576340      & 10.640959       \\\\\n",
       "\t30 & Torrance         & 23339            & 2182             & 1527             & 0.69982          & 1014             & 0.4647           & 0.09349          & 22.31129         &  -4.4952382      & 26.780547       \\\\\n",
       "\t15 & Pico Rivera      &  9842            & 1048             &  685             & 0.65363          &  511             & 0.4876           & 0.10648          & 19.95516         & -12.3246166      & 20.084527       \\\\\n",
       "\t16 & Boyle Heights    &  8625            &  900             &  665             & 0.73889          &  388             & 0.4311           & 0.10435          & 17.84158         &   4.7957907      & 15.193752       \\\\\n",
       "\t51 & Santa Monica     & 16328            & 1416             & 1115             & 0.78743          &  522             & 0.3686           & 0.08672          & 14.99202         &  18.6973526      & 14.662607       \\\\\n",
       "\t66 & Burbank          & 20237            & 1661             & 1242             & 0.74774          &  770             & 0.4636           & 0.08208          & 13.89040         &   8.9569784      & 23.273759       \\\\\n",
       "\t27 & Beverly Hills    &  7347            &  706             &  567             & 0.80312          &  329             & 0.4660           & 0.09609          & 13.46346         &  16.2115870      & 15.303404       \\\\\n",
       "\t9 & Fairfax          &  2325            &  277             &  215             & 0.77617          &  152             & 0.5487           & 0.11914          & 12.28844         &   6.9383369      & 12.515802       \\\\\n",
       "\t61 & El Monte         & 12882            & 1080             &  703             & 0.65093          &  295             & 0.2731           & 0.08384          & 11.92976         & -13.0370358      &  7.621915       \\\\\n",
       "\t91 & Glendale         & 32705            & 2423             & 1714             & 0.70739          &  796             & 0.3285           & 0.07409          & 11.52886         &  -2.3479861      & 15.760770       \\\\\n",
       "\t10 & Commerce         &  2219            &  252             &  188             & 0.74603          &  122             & 0.4841           & 0.11356          & 10.89003         &   3.3041758      &  9.733510       \\\\\n",
       "\t53 & Culver City      &  8705            &  748             &  533             & 0.71257          &  299             & 0.3997           & 0.08593          & 10.63391         &  -0.3879848      & 12.212107       \\\\\n",
       "\t18 & East San Gabriel &  3324            &  339             &  219             & 0.64602          &  105             & 0.3097           & 0.10199          & 10.49886         &  -7.8363200      &  5.324804       \\\\\n",
       "\t40 & Wilmington       &  6766            &  603             &  472             & 0.78275          &  240             & 0.3980           & 0.08912          & 10.48814         &  11.3817002      & 10.886488       \\\\\n",
       "\t14 & Sierra Madre     &  2549            &  274             &  212             & 0.77372          &  156             & 0.5693           & 0.10749          & 10.37174         &   6.6149264      & 13.212861       \\\\\n",
       "\t49 & El Sereno        &  7606            &  662             &  489             & 0.73867          &  289             & 0.4366           & 0.08704          & 10.35065         &   4.0749991      & 13.306734       \\\\\n",
       "\\end{tabular}\n"
      ],
      "text/markdown": [
       "\n",
       "| <!--/--> | ShapeName | total_transfer | trans_prop_13 | No_HOX | no_hox_pct | base_1975 | pct_1975 | all_tran_pct | zval_trans | zval_hox | zval_1975 | \n",
       "|---|---|---|---|---|---|---|---|---|---|---|---|---|---|---|---|---|---|---|---|\n",
       "| 5 | East Los Angeles | 13776            | 1694             | 1243             | 0.73377          |  797             | 0.4705           | 0.12297          | 31.81898         |   5.1659703      | 24.082158        | \n",
       "| 4 | Monterey Park    |  9533            | 1186             |  753             | 0.63491          |  442             | 0.3727           | 0.12441          | 27.06553         | -16.8795411      | 13.671047        | \n",
       "| 3 | Rosemead         |  5808            |  788             |  496             | 0.62944          |  233             | 0.2957           | 0.13567          | 24.76603         | -14.6380405      |  7.489013        | \n",
       "| 8 | Montebello       |  8070            |  966             |  648             | 0.67081          |  418             | 0.4327           | 0.11970          | 23.10741         |  -8.6177910      | 15.838026        | \n",
       "| 13 | Alhambra         | 11452            | 1245             |  816             | 0.65542          |  395             | 0.3173           | 0.10871          | 22.53786         | -13.0576340      | 10.640959        | \n",
       "| 30 | Torrance         | 23339            | 2182             | 1527             | 0.69982          | 1014             | 0.4647           | 0.09349          | 22.31129         |  -4.4952382      | 26.780547        | \n",
       "| 15 | Pico Rivera      |  9842            | 1048             |  685             | 0.65363          |  511             | 0.4876           | 0.10648          | 19.95516         | -12.3246166      | 20.084527        | \n",
       "| 16 | Boyle Heights    |  8625            |  900             |  665             | 0.73889          |  388             | 0.4311           | 0.10435          | 17.84158         |   4.7957907      | 15.193752        | \n",
       "| 51 | Santa Monica     | 16328            | 1416             | 1115             | 0.78743          |  522             | 0.3686           | 0.08672          | 14.99202         |  18.6973526      | 14.662607        | \n",
       "| 66 | Burbank          | 20237            | 1661             | 1242             | 0.74774          |  770             | 0.4636           | 0.08208          | 13.89040         |   8.9569784      | 23.273759        | \n",
       "| 27 | Beverly Hills    |  7347            |  706             |  567             | 0.80312          |  329             | 0.4660           | 0.09609          | 13.46346         |  16.2115870      | 15.303404        | \n",
       "| 9 | Fairfax          |  2325            |  277             |  215             | 0.77617          |  152             | 0.5487           | 0.11914          | 12.28844         |   6.9383369      | 12.515802        | \n",
       "| 61 | El Monte         | 12882            | 1080             |  703             | 0.65093          |  295             | 0.2731           | 0.08384          | 11.92976         | -13.0370358      |  7.621915        | \n",
       "| 91 | Glendale         | 32705            | 2423             | 1714             | 0.70739          |  796             | 0.3285           | 0.07409          | 11.52886         |  -2.3479861      | 15.760770        | \n",
       "| 10 | Commerce         |  2219            |  252             |  188             | 0.74603          |  122             | 0.4841           | 0.11356          | 10.89003         |   3.3041758      |  9.733510        | \n",
       "| 53 | Culver City      |  8705            |  748             |  533             | 0.71257          |  299             | 0.3997           | 0.08593          | 10.63391         |  -0.3879848      | 12.212107        | \n",
       "| 18 | East San Gabriel |  3324            |  339             |  219             | 0.64602          |  105             | 0.3097           | 0.10199          | 10.49886         |  -7.8363200      |  5.324804        | \n",
       "| 40 | Wilmington       |  6766            |  603             |  472             | 0.78275          |  240             | 0.3980           | 0.08912          | 10.48814         |  11.3817002      | 10.886488        | \n",
       "| 14 | Sierra Madre     |  2549            |  274             |  212             | 0.77372          |  156             | 0.5693           | 0.10749          | 10.37174         |   6.6149264      | 13.212861        | \n",
       "| 49 | El Sereno        |  7606            |  662             |  489             | 0.73867          |  289             | 0.4366           | 0.08704          | 10.35065         |   4.0749991      | 13.306734        | \n",
       "\n",
       "\n"
      ],
      "text/plain": [
       "   ShapeName        total_transfer trans_prop_13 No_HOX no_hox_pct base_1975\n",
       "5  East Los Angeles 13776          1694          1243   0.73377     797     \n",
       "4  Monterey Park     9533          1186           753   0.63491     442     \n",
       "3  Rosemead          5808           788           496   0.62944     233     \n",
       "8  Montebello        8070           966           648   0.67081     418     \n",
       "13 Alhambra         11452          1245           816   0.65542     395     \n",
       "30 Torrance         23339          2182          1527   0.69982    1014     \n",
       "15 Pico Rivera       9842          1048           685   0.65363     511     \n",
       "16 Boyle Heights     8625           900           665   0.73889     388     \n",
       "51 Santa Monica     16328          1416          1115   0.78743     522     \n",
       "66 Burbank          20237          1661          1242   0.74774     770     \n",
       "27 Beverly Hills     7347           706           567   0.80312     329     \n",
       "9  Fairfax           2325           277           215   0.77617     152     \n",
       "61 El Monte         12882          1080           703   0.65093     295     \n",
       "91 Glendale         32705          2423          1714   0.70739     796     \n",
       "10 Commerce          2219           252           188   0.74603     122     \n",
       "53 Culver City       8705           748           533   0.71257     299     \n",
       "18 East San Gabriel  3324           339           219   0.64602     105     \n",
       "40 Wilmington        6766           603           472   0.78275     240     \n",
       "14 Sierra Madre      2549           274           212   0.77372     156     \n",
       "49 El Sereno         7606           662           489   0.73867     289     \n",
       "   pct_1975 all_tran_pct zval_trans zval_hox    zval_1975\n",
       "5  0.4705   0.12297      31.81898     5.1659703 24.082158\n",
       "4  0.3727   0.12441      27.06553   -16.8795411 13.671047\n",
       "3  0.2957   0.13567      24.76603   -14.6380405  7.489013\n",
       "8  0.4327   0.11970      23.10741    -8.6177910 15.838026\n",
       "13 0.3173   0.10871      22.53786   -13.0576340 10.640959\n",
       "30 0.4647   0.09349      22.31129    -4.4952382 26.780547\n",
       "15 0.4876   0.10648      19.95516   -12.3246166 20.084527\n",
       "16 0.4311   0.10435      17.84158     4.7957907 15.193752\n",
       "51 0.3686   0.08672      14.99202    18.6973526 14.662607\n",
       "66 0.4636   0.08208      13.89040     8.9569784 23.273759\n",
       "27 0.4660   0.09609      13.46346    16.2115870 15.303404\n",
       "9  0.5487   0.11914      12.28844     6.9383369 12.515802\n",
       "61 0.2731   0.08384      11.92976   -13.0370358  7.621915\n",
       "91 0.3285   0.07409      11.52886    -2.3479861 15.760770\n",
       "10 0.4841   0.11356      10.89003     3.3041758  9.733510\n",
       "53 0.3997   0.08593      10.63391    -0.3879848 12.212107\n",
       "18 0.3097   0.10199      10.49886    -7.8363200  5.324804\n",
       "40 0.3980   0.08912      10.48814    11.3817002 10.886488\n",
       "14 0.5693   0.10749      10.37174     6.6149264 13.212861\n",
       "49 0.4366   0.08704      10.35065     4.0749991 13.306734"
      ]
     },
     "metadata": {},
     "output_type": "display_data"
    }
   ],
   "source": [
    "hoods <- hoods[order(hoods$zval_trans, decreasing = TRUE),]\n",
    "head(hoods, n = 20)"
   ]
  },
  {
   "cell_type": "code",
   "execution_count": null,
   "metadata": {},
   "outputs": [],
   "source": []
  }
 ],
 "metadata": {
  "kernelspec": {
   "display_name": "R",
   "language": "R",
   "name": "ir"
  },
  "language_info": {
   "codemirror_mode": "r",
   "file_extension": ".r",
   "mimetype": "text/x-r-source",
   "name": "R",
   "pygments_lexer": "r",
   "version": "3.3.1"
  }
 },
 "nbformat": 4,
 "nbformat_minor": 2
}
